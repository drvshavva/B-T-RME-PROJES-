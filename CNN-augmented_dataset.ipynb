{
 "cells": [
  {
   "cell_type": "code",
   "execution_count": 1,
   "metadata": {},
   "outputs": [
    {
     "name": "stderr",
     "output_type": "stream",
     "text": [
      "Using TensorFlow backend.\n"
     ]
    }
   ],
   "source": [
    "from keras import layers\n",
    "from keras import models\n",
    "import os\n",
    "\n",
    "base_dir='C:/Users/user/Desktop/Bitirme/augmented'\n",
    "train_dir=os.path.join(base_dir,'Train')\n",
    "test_dir=os.path.join(base_dir,'Test')"
   ]
  },
  {
   "cell_type": "code",
   "execution_count": 2,
   "metadata": {},
   "outputs": [
    {
     "name": "stdout",
     "output_type": "stream",
     "text": [
      "WARNING:tensorflow:From C:\\Users\\user\\Anaconda3\\lib\\site-packages\\tensorflow\\python\\framework\\op_def_library.py:263: colocate_with (from tensorflow.python.framework.ops) is deprecated and will be removed in a future version.\n",
      "Instructions for updating:\n",
      "Colocations handled automatically by placer.\n",
      "WARNING:tensorflow:From C:\\Users\\user\\Anaconda3\\lib\\site-packages\\keras\\backend\\tensorflow_backend.py:3445: calling dropout (from tensorflow.python.ops.nn_ops) with keep_prob is deprecated and will be removed in a future version.\n",
      "Instructions for updating:\n",
      "Please use `rate` instead of `keep_prob`. Rate should be set to `rate = 1 - keep_prob`.\n",
      "_________________________________________________________________\n",
      "Layer (type)                 Output Shape              Param #   \n",
      "=================================================================\n",
      "conv2d_1 (Conv2D)            (None, 510, 510, 16)      448       \n",
      "_________________________________________________________________\n",
      "activation_1 (Activation)    (None, 510, 510, 16)      0         \n",
      "_________________________________________________________________\n",
      "max_pooling2d_1 (MaxPooling2 (None, 170, 170, 16)      0         \n",
      "_________________________________________________________________\n",
      "conv2d_2 (Conv2D)            (None, 168, 168, 32)      4640      \n",
      "_________________________________________________________________\n",
      "activation_2 (Activation)    (None, 168, 168, 32)      0         \n",
      "_________________________________________________________________\n",
      "max_pooling2d_2 (MaxPooling2 (None, 84, 84, 32)        0         \n",
      "_________________________________________________________________\n",
      "conv2d_3 (Conv2D)            (None, 82, 82, 64)        18496     \n",
      "_________________________________________________________________\n",
      "activation_3 (Activation)    (None, 82, 82, 64)        0         \n",
      "_________________________________________________________________\n",
      "max_pooling2d_3 (MaxPooling2 (None, 41, 41, 64)        0         \n",
      "_________________________________________________________________\n",
      "conv2d_4 (Conv2D)            (None, 39, 39, 64)        36928     \n",
      "_________________________________________________________________\n",
      "max_pooling2d_4 (MaxPooling2 (None, 13, 13, 64)        0         \n",
      "_________________________________________________________________\n",
      "conv2d_5 (Conv2D)            (None, 11, 11, 32)        18464     \n",
      "_________________________________________________________________\n",
      "max_pooling2d_5 (MaxPooling2 (None, 3, 3, 32)          0         \n",
      "_________________________________________________________________\n",
      "dropout_1 (Dropout)          (None, 3, 3, 32)          0         \n",
      "_________________________________________________________________\n",
      "flatten_1 (Flatten)          (None, 288)               0         \n",
      "_________________________________________________________________\n",
      "dense_1 (Dense)              (None, 256)               73984     \n",
      "_________________________________________________________________\n",
      "dense_2 (Dense)              (None, 128)               32896     \n",
      "_________________________________________________________________\n",
      "dense_3 (Dense)              (None, 4)                 516       \n",
      "=================================================================\n",
      "Total params: 186,372\n",
      "Trainable params: 186,372\n",
      "Non-trainable params: 0\n",
      "_________________________________________________________________\n"
     ]
    }
   ],
   "source": [
    "#kullanılan CNN yapısı\n",
    "model=models.Sequential()\n",
    "\n",
    "#1\n",
    "model.add(layers.Conv2D(16,(3,3),input_shape=(512,512,3)))\n",
    "#2,3        \n",
    "model.add(layers.Activation('relu'))\n",
    "model.add(layers.MaxPooling2D((3,3)))\n",
    "model.add(layers.Conv2D(32,(3,3)))\n",
    "#4,5\n",
    "model.add(layers.Activation('relu'))\n",
    "model.add(layers.MaxPooling2D((2,2)))\n",
    "model.add(layers.Conv2D(64,(3,3)))\n",
    "#6,7,8,9,10\n",
    "model.add(layers.Activation('relu'))\n",
    "model.add(layers.MaxPooling2D((2,2)))\n",
    "model.add(layers.Conv2D(64,(3,3)))\n",
    "model.add(layers.MaxPooling2D((3,3)))\n",
    "model.add(layers.Conv2D(32,(3,3)))\n",
    "model.add(layers.MaxPooling2D((3,3)))\n",
    "\n",
    "model.add(layers.Dropout(0.5))\n",
    "model.add(layers.Flatten())\n",
    "model.add(layers.Dense(256,activation='relu'))\n",
    "model.add(layers.Dense(128,activation='relu'))\n",
    "model.add(layers.Dense(4,activation='softmax'))\n",
    "model.summary()"
   ]
  },
  {
   "cell_type": "code",
   "execution_count": 3,
   "metadata": {},
   "outputs": [],
   "source": [
    "model.compile(loss='categorical_crossentropy',\n",
    "              optimizer='adam',\n",
    "              metrics=['acc'])"
   ]
  },
  {
   "cell_type": "code",
   "execution_count": 4,
   "metadata": {},
   "outputs": [],
   "source": [
    "from keras.preprocessing.image import ImageDataGenerator\n",
    "# veri seti augmented olduğu için scale dışında hiçbir preprocess yapılmıyor\n",
    "train_datagen=ImageDataGenerator(rescale = 1./255)\n",
    "test_datagen = ImageDataGenerator(rescale = 1./255)"
   ]
  },
  {
   "cell_type": "code",
   "execution_count": 5,
   "metadata": {},
   "outputs": [
    {
     "name": "stdout",
     "output_type": "stream",
     "text": [
      "Found 35077 images belonging to 4 classes.\n",
      "Found 8699 images belonging to 4 classes.\n"
     ]
    }
   ],
   "source": [
    "train_generator=train_datagen.flow_from_directory(\n",
    "                                                  train_dir,\n",
    "                                                  target_size=(512,512),\n",
    "                                                  batch_size=32,\n",
    "                                                  class_mode='categorical')\n",
    "test_generator=test_datagen.flow_from_directory(\n",
    "                                                  test_dir,\n",
    "                                                  target_size=(512,512),\n",
    "                                                  batch_size=32,\n",
    "                                                  class_mode='categorical')"
   ]
  },
  {
   "cell_type": "code",
   "execution_count": 6,
   "metadata": {},
   "outputs": [
    {
     "name": "stdout",
     "output_type": "stream",
     "text": [
      "data batch shape: (32, 512, 512, 3)\n",
      "labels batch shape: (32, 4)\n"
     ]
    }
   ],
   "source": [
    "for data_batch,labels_batch in train_generator:\n",
    "    print('data batch shape:',data_batch.shape)\n",
    "    print('labels batch shape:',labels_batch.shape)\n",
    "    break"
   ]
  },
  {
   "cell_type": "code",
   "execution_count": 7,
   "metadata": {},
   "outputs": [
    {
     "name": "stdout",
     "output_type": "stream",
     "text": [
      "WARNING:tensorflow:From C:\\Users\\user\\Anaconda3\\lib\\site-packages\\tensorflow\\python\\ops\\math_ops.py:3066: to_int32 (from tensorflow.python.ops.math_ops) is deprecated and will be removed in a future version.\n",
      "Instructions for updating:\n",
      "Use tf.cast instead.\n",
      "Epoch 1/50\n",
      "1097/1096 [==============================] - 2094s 2s/step - loss: 1.1351 - acc: 0.4825 - val_loss: 1.0777 - val_acc: 0.5243\n",
      "Epoch 2/50\n",
      "1097/1096 [==============================] - 1932s 2s/step - loss: 0.9262 - acc: 0.6009 - val_loss: 0.8757 - val_acc: 0.6123\n",
      "Epoch 3/50\n",
      "1097/1096 [==============================] - 1947s 2s/step - loss: 0.8218 - acc: 0.6456 - val_loss: 0.8488 - val_acc: 0.6198\n",
      "Epoch 4/50\n",
      "1097/1096 [==============================] - 1936s 2s/step - loss: 0.7439 - acc: 0.6849 - val_loss: 0.7586 - val_acc: 0.6815\n",
      "Epoch 5/50\n",
      "1097/1096 [==============================] - 1943s 2s/step - loss: 0.6755 - acc: 0.7142 - val_loss: 0.7221 - val_acc: 0.6986\n",
      "Epoch 6/50\n",
      "1097/1096 [==============================] - 1928s 2s/step - loss: 0.6222 - acc: 0.7416 - val_loss: 0.7445 - val_acc: 0.6880\n",
      "Epoch 7/50\n",
      "1097/1096 [==============================] - 1915s 2s/step - loss: 0.5719 - acc: 0.7657 - val_loss: 0.5942 - val_acc: 0.7571\n",
      "Epoch 8/50\n",
      "1097/1096 [==============================] - 1898s 2s/step - loss: 0.5232 - acc: 0.7851 - val_loss: 0.6621 - val_acc: 0.6995\n",
      "Epoch 9/50\n",
      "1097/1096 [==============================] - 1896s 2s/step - loss: 0.4927 - acc: 0.7975 - val_loss: 0.4608 - val_acc: 0.8092\n",
      "Epoch 10/50\n",
      "1097/1096 [==============================] - 1892s 2s/step - loss: 0.4672 - acc: 0.8108 - val_loss: 0.5576 - val_acc: 0.7654\n",
      "Epoch 11/50\n",
      "1097/1096 [==============================] - 1888s 2s/step - loss: 0.4367 - acc: 0.8229 - val_loss: 0.4592 - val_acc: 0.8097\n",
      "Epoch 12/50\n",
      "1097/1096 [==============================] - 1900s 2s/step - loss: 0.4190 - acc: 0.8321 - val_loss: 0.4665 - val_acc: 0.8155\n",
      "Epoch 13/50\n",
      "1097/1096 [==============================] - 1894s 2s/step - loss: 0.3936 - acc: 0.8411 - val_loss: 0.4385 - val_acc: 0.8286\n",
      "Epoch 14/50\n",
      "1097/1096 [==============================] - 1896s 2s/step - loss: 0.3694 - acc: 0.8541 - val_loss: 0.4357 - val_acc: 0.8229\n",
      "Epoch 15/50\n",
      "1097/1096 [==============================] - 1895s 2s/step - loss: 0.3572 - acc: 0.8592 - val_loss: 0.4523 - val_acc: 0.8169\n",
      "Epoch 16/50\n",
      "1097/1096 [==============================] - 1893s 2s/step - loss: 0.3521 - acc: 0.8608 - val_loss: 0.5665 - val_acc: 0.7948\n",
      "Epoch 17/50\n",
      "1097/1096 [==============================] - 1892s 2s/step - loss: 0.3422 - acc: 0.8664 - val_loss: 0.4738 - val_acc: 0.8143\n",
      "Epoch 18/50\n",
      "1097/1096 [==============================] - 1898s 2s/step - loss: 0.3191 - acc: 0.8760 - val_loss: 0.3928 - val_acc: 0.8488\n",
      "Epoch 19/50\n",
      "1097/1096 [==============================] - 1901s 2s/step - loss: 0.3051 - acc: 0.8811 - val_loss: 0.4342 - val_acc: 0.8370\n",
      "Epoch 20/50\n",
      "1097/1096 [==============================] - 1904s 2s/step - loss: 0.3084 - acc: 0.8797 - val_loss: 0.3542 - val_acc: 0.8601\n",
      "Epoch 21/50\n",
      "1097/1096 [==============================] - 1895s 2s/step - loss: 0.2869 - acc: 0.8890 - val_loss: 0.2949 - val_acc: 0.8857\n",
      "Epoch 22/50\n",
      "1097/1096 [==============================] - 1896s 2s/step - loss: 0.2836 - acc: 0.8904 - val_loss: 0.3426 - val_acc: 0.8650\n",
      "Epoch 23/50\n",
      "1097/1096 [==============================] - 1903s 2s/step - loss: 0.2730 - acc: 0.8949 - val_loss: 0.3324 - val_acc: 0.8792\n",
      "Epoch 24/50\n",
      "1097/1096 [==============================] - 1898s 2s/step - loss: 0.2666 - acc: 0.8977 - val_loss: 0.7502 - val_acc: 0.7347\n",
      "Epoch 25/50\n",
      "1097/1096 [==============================] - 1905s 2s/step - loss: 0.2782 - acc: 0.8929 - val_loss: 0.4752 - val_acc: 0.8185\n",
      "Epoch 26/50\n",
      "1097/1096 [==============================] - 1902s 2s/step - loss: 0.2425 - acc: 0.9073 - val_loss: 0.4079 - val_acc: 0.8515\n",
      "Epoch 27/50\n",
      "1097/1096 [==============================] - 1899s 2s/step - loss: 0.2395 - acc: 0.9077 - val_loss: 0.3081 - val_acc: 0.8831\n",
      "Epoch 28/50\n",
      "1097/1096 [==============================] - 1901s 2s/step - loss: 0.2496 - acc: 0.9056 - val_loss: 0.3227 - val_acc: 0.8753\n",
      "Epoch 29/50\n",
      "1097/1096 [==============================] - 1914s 2s/step - loss: 0.2342 - acc: 0.9123 - val_loss: 0.2871 - val_acc: 0.8926\n",
      "Epoch 30/50\n",
      "1097/1096 [==============================] - 1915s 2s/step - loss: 0.2279 - acc: 0.9157 - val_loss: 0.3262 - val_acc: 0.8778\n",
      "Epoch 31/50\n",
      "1097/1096 [==============================] - 1902s 2s/step - loss: 0.2352 - acc: 0.9124 - val_loss: 0.2569 - val_acc: 0.9026\n",
      "Epoch 32/50\n",
      "1097/1096 [==============================] - 1903s 2s/step - loss: 0.2229 - acc: 0.9177 - val_loss: 0.2999 - val_acc: 0.8883\n",
      "Epoch 33/50\n",
      "1097/1096 [==============================] - 1902s 2s/step - loss: 0.2174 - acc: 0.9183 - val_loss: 0.2648 - val_acc: 0.9024\n",
      "Epoch 34/50\n",
      "1097/1096 [==============================] - 1906s 2s/step - loss: 0.2154 - acc: 0.9191 - val_loss: 0.3780 - val_acc: 0.8706\n",
      "Epoch 35/50\n",
      "1097/1096 [==============================] - 1903s 2s/step - loss: 0.2190 - acc: 0.9192 - val_loss: 0.3433 - val_acc: 0.8764\n",
      "Epoch 36/50\n",
      "1097/1096 [==============================] - 1903s 2s/step - loss: 0.2134 - acc: 0.9211 - val_loss: 0.2457 - val_acc: 0.9079\n",
      "Epoch 37/50\n",
      "1097/1096 [==============================] - 1902s 2s/step - loss: 0.2032 - acc: 0.9246 - val_loss: 0.2954 - val_acc: 0.8971\n",
      "Epoch 38/50\n",
      "1097/1096 [==============================] - 1906s 2s/step - loss: 0.1984 - acc: 0.9282 - val_loss: 0.3702 - val_acc: 0.8638\n",
      "Epoch 39/50\n",
      "1097/1096 [==============================] - 1922s 2s/step - loss: 0.1904 - acc: 0.9309 - val_loss: 0.3814 - val_acc: 0.8809\n",
      "Epoch 40/50\n",
      "1097/1096 [==============================] - 1928s 2s/step - loss: 0.1943 - acc: 0.9279 - val_loss: 0.3547 - val_acc: 0.8719\n",
      "Epoch 41/50\n",
      "1097/1096 [==============================] - 1916s 2s/step - loss: 0.1934 - acc: 0.9280 - val_loss: 0.2846 - val_acc: 0.9006\n",
      "Epoch 42/50\n",
      "1097/1096 [==============================] - 1919s 2s/step - loss: 0.1937 - acc: 0.9291 - val_loss: 0.2667 - val_acc: 0.9018\n",
      "Epoch 43/50\n",
      "1097/1096 [==============================] - 1949s 2s/step - loss: 0.1774 - acc: 0.9353 - val_loss: 0.2410 - val_acc: 0.9150\n",
      "Epoch 44/50\n",
      "1097/1096 [==============================] - 1955s 2s/step - loss: 0.1798 - acc: 0.9342 - val_loss: 0.2759 - val_acc: 0.9061\n",
      "Epoch 45/50\n",
      "1097/1096 [==============================] - 1958s 2s/step - loss: 0.1958 - acc: 0.9279 - val_loss: 0.3505 - val_acc: 0.8885\n",
      "Epoch 46/50\n",
      "1097/1096 [==============================] - 1936s 2s/step - loss: 0.1767 - acc: 0.9356 - val_loss: 0.2831 - val_acc: 0.9046\n",
      "Epoch 47/50\n",
      "1097/1096 [==============================] - 1941s 2s/step - loss: 0.1791 - acc: 0.9342 - val_loss: 0.4695 - val_acc: 0.8530\n",
      "Epoch 48/50\n",
      "1097/1096 [==============================] - 1945s 2s/step - loss: 0.1920 - acc: 0.9290 - val_loss: 0.3883 - val_acc: 0.8796\n",
      "Epoch 49/50\n",
      "1097/1096 [==============================] - 1993s 2s/step - loss: 0.1718 - acc: 0.9374 - val_loss: 0.2957 - val_acc: 0.8986\n",
      "Epoch 50/50\n",
      "1097/1096 [==============================] - 1975s 2s/step - loss: 0.1744 - acc: 0.9380 - val_loss: 0.2439 - val_acc: 0.9119\n"
     ]
    }
   ],
   "source": [
    "history=model.fit_generator(\n",
    "        train_generator,\n",
    "        steps_per_epoch=35077/32,\n",
    "        epochs=50,\n",
    "        validation_data=test_generator,\n",
    "        validation_steps=8699/32)\n",
    "model.save('proje_model_CNN.h5')\n"
   ]
  },
  {
   "cell_type": "code",
   "execution_count": 9,
   "metadata": {},
   "outputs": [
    {
     "data": {
      "image/png": "[encoded data removed]",
      "text/plain": [
       "<Figure size 432x288 with 1 Axes>"
      ]
     },
     "metadata": {
      "needs_background": "light"
     },
     "output_type": "display_data"
    },
    {
     "data": {
      "image/png": "[encoded data removed]",
      "text/plain": [
       "<Figure size 432x288 with 1 Axes>"
      ]
     },
     "metadata": {
      "needs_background": "light"
     },
     "output_type": "display_data"
    }
   ],
   "source": [
    "import matplotlib.pyplot as plt\n",
    "\n",
    "accuracy = history.history['acc']\n",
    "val_accuracy = history.history['val_acc']\n",
    "loss = history.history['loss']\n",
    "val_loss = history.history['val_loss']\n",
    "epochs = range(len(accuracy))\n",
    "\n",
    "plt.plot(epochs, accuracy, 'bo', label='Training accuracy')\n",
    "plt.plot(epochs, val_accuracy, 'b', label='Validation accuracy')\n",
    "plt.title('Training and validation accuracy-20 epoch -batch size=32')\n",
    "plt.legend()\n",
    "plt.figure()\n",
    "\n",
    "plt.plot(epochs, loss, 'bo', label='Training loss')\n",
    "plt.plot(epochs, val_loss, 'b', label='Validation loss')\n",
    "plt.title('Training and validation loss')\n",
    "plt.legend()\n",
    "plt.show()"
   ]
  },
  {
   "cell_type": "code",
   "execution_count": null,
   "metadata": {},
   "outputs": [],
   "source": []
  },
  {
   "cell_type": "code",
   "execution_count": null,
   "metadata": {},
   "outputs": [],
   "source": []
  }
 ],
 "metadata": {
  "kernelspec": {
   "display_name": "Python 3",
   "language": "python",
   "name": "python3"
  },
  "language_info": {
   "codemirror_mode": {
    "name": "ipython",
    "version": 3
   },
   "file_extension": ".py",
   "mimetype": "text/x-python",
   "name": "python",
   "nbconvert_exporter": "python",
   "pygments_lexer": "ipython3",
   "version": "3.7.1"
  }
 },
 "nbformat": 4,
 "nbformat_minor": 2
}
