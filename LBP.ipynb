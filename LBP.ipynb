{
 "cells": [
  {
   "cell_type": "code",
   "execution_count": 1,
   "metadata": {},
   "outputs": [],
   "source": [
    "import cv2\n",
    "import random\n",
    "import time\n",
    "import numpy as np\n",
    "from scipy import misc\n",
    "from skimage import feature\n",
    "from matplotlib import pyplot as plt\n",
    "from scipy import misc\n",
    "%matplotlib inline\n",
    "plt.style.use('ggplot')\n",
    "import os\n",
    "import sys\n",
    "sys.path.append('../common/')\n"
   ]
  },
  {
   "cell_type": "code",
   "execution_count": 2,
   "metadata": {},
   "outputs": [],
   "source": [
    "import pickle\n"
   ]
  },
  {
   "cell_type": "code",
   "execution_count": 3,
   "metadata": {},
   "outputs": [],
   "source": [
    "train_path = 'C:/Users/user/Desktop/Bitirme/VT/v1/Train'\n"
   ]
  },
  {
   "cell_type": "code",
   "execution_count": 4,
   "metadata": {},
   "outputs": [],
   "source": [
    "def lbp_feature(img):\n",
    "    img=cv2.cvtColor(img, cv2.COLOR_BGR2GRAY)\n",
    "    lbp = local_binary_pattern(img, 20,4, method=\"uniform\")\n",
    "    (hist, _) = np.histogram(lbp.ravel(),bins=np.arange(0, 35),range=(0, 34))                   \n",
    "    hist = hist.astype(\"float\")                         \n",
    "    hist /= (hist.sum() + (1e-7))\n",
    "    return hist"
   ]
  },
  {
   "cell_type": "code",
   "execution_count": 5,
   "metadata": {},
   "outputs": [
    {
     "name": "stdout",
     "output_type": "stream",
     "text": [
      "['Benign', 'Insitu', 'Invasive', 'Normal']\n"
     ]
    }
   ],
   "source": [
    "train_labels = os.listdir(train_path)\n",
    "# sort the training labels\n",
    "train_labels.sort()\n",
    "print(train_labels)\n"
   ]
  },
  {
   "cell_type": "code",
   "execution_count": 6,
   "metadata": {},
   "outputs": [],
   "source": [
    "labels = []\n",
    "features = []\n"
   ]
  },
  {
   "cell_type": "code",
   "execution_count": 7,
   "metadata": {},
   "outputs": [],
   "source": [
    "# filter all the warnings\n",
    "import warnings\n",
    "warnings.filterwarnings('ignore')"
   ]
  },
  {
   "cell_type": "code",
   "execution_count": 8,
   "metadata": {},
   "outputs": [
    {
     "name": "stdout",
     "output_type": "stream",
     "text": [
      "[STATUS] processed folder: Benign\n",
      "[STATUS] processed folder: Insitu\n",
      "[STATUS] processed folder: Invasive\n",
      "[STATUS] processed folder: Normal\n"
     ]
    }
   ],
   "source": [
    "import glob\n",
    "from skimage import color\n",
    "from skimage.feature import local_binary_pattern\n",
    "from sklearn import svm\n",
    "from sklearn.metrics import classification_report,accuracy_score\n",
    "\n",
    "for training_name in train_labels:\n",
    "    # join the training data path and each species training folder\n",
    "    path = glob.glob(\"C:/Users/user/Desktop/Bitirme/VT/v1/Train/\"+training_name+\"/*.tif\")\n",
    "\n",
    "    \n",
    "    # get the current training label\n",
    "    current_label = training_name\n",
    "    \n",
    "    x=0\n",
    "    # loop over the images in each sub-folder\n",
    "    for file in path:\n",
    "        if x<5800:\n",
    "            image = cv2.imread(file)\n",
    "            hist = lbp_feature(image)\n",
    "            labels.append(current_label)\n",
    "            features.append(hist)\n",
    "           \n",
    "            x=x+1\n",
    "    print (\"[STATUS] processed folder: {}\".format(current_label))\n"
   ]
  },
  {
   "cell_type": "code",
   "execution_count": 9,
   "metadata": {},
   "outputs": [
    {
     "name": "stdout",
     "output_type": "stream",
     "text": [
      "[STATUS] completed Global Feature Extraction...\n",
      "[STATUS] feature vector size (5837, 34)\n",
      "[STATUS] training Labels (5837,)\n"
     ]
    }
   ],
   "source": [
    "print (\"[STATUS] completed Global Feature Extraction...\")\n",
    "\n",
    "# get the overall feature vector size\n",
    "print (\"[STATUS] feature vector size {}\".format(np.array(features).shape))\n",
    "\n",
    "# get the overall training label size\n",
    "print (\"[STATUS] training Labels {}\".format(np.array(labels).shape))"
   ]
  },
  {
   "cell_type": "code",
   "execution_count": 10,
   "metadata": {},
   "outputs": [
    {
     "name": "stdout",
     "output_type": "stream",
     "text": [
      "[STATUS] training labels encoded...\n"
     ]
    }
   ],
   "source": [
    "from sklearn.preprocessing import LabelEncoder\n",
    "from sklearn.preprocessing import MinMaxScaler\n",
    "targetNames = np.unique(labels)\n",
    "le = LabelEncoder()\n",
    "target = le.fit_transform(labels)\n",
    "print (\"[STATUS] training labels encoded...\")"
   ]
  },
  {
   "cell_type": "code",
   "execution_count": 11,
   "metadata": {},
   "outputs": [
    {
     "name": "stdout",
     "output_type": "stream",
     "text": [
      "[STATUS] feature vector normalized...\n",
      "[STATUS] target labels: [0 0 0 ... 3 3 3]\n",
      "[STATUS] target labels shape: (5837,)\n"
     ]
    }
   ],
   "source": [
    "# normalize the feature vector in the range (0-1)\n",
    "scaler = MinMaxScaler(feature_range=(0, 1))\n",
    "rescaled_features = scaler.fit_transform(features)\n",
    "print (\"[STATUS] feature vector normalized...\")\n",
    "\n",
    "print (\"[STATUS] target labels: {}\".format(target))\n",
    "print( \"[STATUS] target labels shape: {}\".format(target.shape))"
   ]
  },
  {
   "cell_type": "code",
   "execution_count": 12,
   "metadata": {},
   "outputs": [],
   "source": [
    "rescaled_features= np.nan_to_num(rescaled_features,0)\n"
   ]
  },
  {
   "cell_type": "code",
   "execution_count": 13,
   "metadata": {},
   "outputs": [],
   "source": [
    "from sklearn.model_selection import train_test_split, cross_val_score\n",
    "from sklearn.model_selection import KFold, StratifiedKFold\n",
    "from sklearn.metrics import confusion_matrix, accuracy_score, classification_report\n",
    "from sklearn.linear_model import LogisticRegression\n",
    "from sklearn.tree import DecisionTreeClassifier\n",
    "from sklearn.ensemble import RandomForestClassifier\n",
    "from sklearn.neighbors import KNeighborsClassifier\n",
    "from sklearn.discriminant_analysis import LinearDiscriminantAnalysis\n",
    "from sklearn.naive_bayes import GaussianNB\n",
    "from sklearn.svm import SVC"
   ]
  },
  {
   "cell_type": "code",
   "execution_count": 14,
   "metadata": {},
   "outputs": [],
   "source": [
    "models = []\n",
    "models.append(('KNN', KNeighborsClassifier(n_neighbors=9)))\n",
    "models.append(('DTC', DecisionTreeClassifier(random_state=9)))\n",
    "models.append(('RF', RandomForestClassifier(n_estimators=300, random_state=9)))\n",
    "models.append(('SVM', SVC(C=100,gamma=1)))"
   ]
  },
  {
   "cell_type": "code",
   "execution_count": 15,
   "metadata": {},
   "outputs": [],
   "source": [
    "results = []\n",
    "names = []\n",
    "scoring = \"accuracy\""
   ]
  },
  {
   "cell_type": "code",
   "execution_count": 16,
   "metadata": {},
   "outputs": [],
   "source": [
    "(trainDataGlobal, testDataGlobal, trainLabelsGlobal, testLabelsGlobal) = train_test_split(np.array(rescaled_features),\n",
    "                                                                                          np.array(target),\n",
    "                                                                                          test_size=0.2,\n",
    "                                                                                          random_state=9)"
   ]
  },
  {
   "cell_type": "code",
   "execution_count": 17,
   "metadata": {},
   "outputs": [
    {
     "name": "stdout",
     "output_type": "stream",
     "text": [
      "KNN: 0.698440 (0.009032)\n",
      "DTC: 0.728208 (0.009898)\n",
      "RF: 0.810241 (0.010601)\n",
      "SVM: 0.741916 (0.006335)\n"
     ]
    }
   ],
   "source": [
    "for name, model in models:\n",
    "    kfold = KFold(n_splits=5, random_state=7)\n",
    "    cv_results = cross_val_score(model, trainDataGlobal, trainLabelsGlobal, cv=kfold, scoring=scoring)\n",
    "    results.append(cv_results)\n",
    "    names.append(name)\n",
    "    msg = \"%s: %f (%f)\" % (name, cv_results.mean(), cv_results.std())\n",
    "    print(msg)"
   ]
  },
  {
   "cell_type": "code",
   "execution_count": 18,
   "metadata": {},
   "outputs": [
    {
     "name": "stdout",
     "output_type": "stream",
     "text": [
      "KNN: 0.723459 \n",
      "DTC: 0.784247 \n",
      "RF: 0.843322 \n",
      "SVM: 0.766267 \n"
     ]
    }
   ],
   "source": [
    "from sklearn import metrics\n",
    "for name, model in models:\n",
    "    clf=model\n",
    "    clf.fit(trainDataGlobal, trainLabelsGlobal)\n",
    "    y_pred=clf.predict(testDataGlobal)\n",
    "    msg = \"%s: %f \" % (name, metrics.accuracy_score(y_pred,testLabelsGlobal))\n",
    "    print(msg)"
   ]
  },
  {
   "cell_type": "code",
   "execution_count": null,
   "metadata": {},
   "outputs": [],
   "source": []
  },
  {
   "cell_type": "code",
   "execution_count": null,
   "metadata": {},
   "outputs": [],
   "source": []
  }
 ],
 "metadata": {
  "kernelspec": {
   "display_name": "Python 3",
   "language": "python",
   "name": "python3"
  },
  "language_info": {
   "codemirror_mode": {
    "name": "ipython",
    "version": 3
   },
   "file_extension": ".py",
   "mimetype": "text/x-python",
   "name": "python",
   "nbconvert_exporter": "python",
   "pygments_lexer": "ipython3",
   "version": "3.7.1"
  }
 },
 "nbformat": 4,
 "nbformat_minor": 2
}
