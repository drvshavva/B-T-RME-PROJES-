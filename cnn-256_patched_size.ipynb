{
 "cells": [
  {
   "cell_type": "code",
   "execution_count": 1,
   "metadata": {},
   "outputs": [
    {
     "name": "stderr",
     "output_type": "stream",
     "text": [
      "Using TensorFlow backend.\n"
     ]
    }
   ],
   "source": [
    "from keras import layers\n",
    "from keras import models\n",
    "import os\n",
    "\n",
    "base_dir='C:/Users/user/Desktop/Bitirme/216-data'\n",
    "train_dir=os.path.join(base_dir,'Train')\n",
    "test_dir=os.path.join(base_dir,'Test')"
   ]
  },
  {
   "cell_type": "code",
   "execution_count": 2,
   "metadata": {},
   "outputs": [
    {
     "name": "stdout",
     "output_type": "stream",
     "text": [
      "WARNING:tensorflow:From C:\\Users\\user\\Anaconda3\\lib\\site-packages\\tensorflow\\python\\framework\\op_def_library.py:263: colocate_with (from tensorflow.python.framework.ops) is deprecated and will be removed in a future version.\n",
      "Instructions for updating:\n",
      "Colocations handled automatically by placer.\n",
      "WARNING:tensorflow:From C:\\Users\\user\\Anaconda3\\lib\\site-packages\\keras\\backend\\tensorflow_backend.py:3445: calling dropout (from tensorflow.python.ops.nn_ops) with keep_prob is deprecated and will be removed in a future version.\n",
      "Instructions for updating:\n",
      "Please use `rate` instead of `keep_prob`. Rate should be set to `rate = 1 - keep_prob`.\n",
      "_________________________________________________________________\n",
      "Layer (type)                 Output Shape              Param #   \n",
      "=================================================================\n",
      "conv2d_1 (Conv2D)            (None, 254, 254, 8)       224       \n",
      "_________________________________________________________________\n",
      "activation_1 (Activation)    (None, 254, 254, 8)       0         \n",
      "_________________________________________________________________\n",
      "max_pooling2d_1 (MaxPooling2 (None, 84, 84, 8)         0         \n",
      "_________________________________________________________________\n",
      "conv2d_2 (Conv2D)            (None, 82, 82, 16)        1168      \n",
      "_________________________________________________________________\n",
      "activation_2 (Activation)    (None, 82, 82, 16)        0         \n",
      "_________________________________________________________________\n",
      "max_pooling2d_2 (MaxPooling2 (None, 41, 41, 16)        0         \n",
      "_________________________________________________________________\n",
      "conv2d_3 (Conv2D)            (None, 39, 39, 32)        4640      \n",
      "_________________________________________________________________\n",
      "activation_3 (Activation)    (None, 39, 39, 32)        0         \n",
      "_________________________________________________________________\n",
      "max_pooling2d_3 (MaxPooling2 (None, 19, 19, 32)        0         \n",
      "_________________________________________________________________\n",
      "conv2d_4 (Conv2D)            (None, 17, 17, 16)        4624      \n",
      "_________________________________________________________________\n",
      "max_pooling2d_4 (MaxPooling2 (None, 5, 5, 16)          0         \n",
      "_________________________________________________________________\n",
      "dropout_1 (Dropout)          (None, 5, 5, 16)          0         \n",
      "_________________________________________________________________\n",
      "flatten_1 (Flatten)          (None, 400)               0         \n",
      "_________________________________________________________________\n",
      "dense_1 (Dense)              (None, 64)                25664     \n",
      "_________________________________________________________________\n",
      "dense_2 (Dense)              (None, 4)                 260       \n",
      "=================================================================\n",
      "Total params: 36,580\n",
      "Trainable params: 36,580\n",
      "Non-trainable params: 0\n",
      "_________________________________________________________________\n"
     ]
    }
   ],
   "source": [
    "model=models.Sequential()\n",
    "\n",
    "#1\n",
    "model.add(layers.Conv2D(8,(3,3),input_shape=(256,256,3)))\n",
    "#2,3        \n",
    "model.add(layers.Activation('relu'))\n",
    "model.add(layers.MaxPooling2D((3,3)))\n",
    "model.add(layers.Conv2D(16,(3,3)))\n",
    "#4,5\n",
    "model.add(layers.Activation('relu'))\n",
    "model.add(layers.MaxPooling2D((2,2)))\n",
    "model.add(layers.Conv2D(32,(3,3)))\n",
    "#6,7,8,9,10\n",
    "model.add(layers.Activation('relu'))\n",
    "model.add(layers.MaxPooling2D((2,2)))\n",
    "model.add(layers.Conv2D(16,(3,3)))\n",
    "model.add(layers.MaxPooling2D((3,3)))\n",
    "\n",
    "model.add(layers.Dropout(0.5))\n",
    "model.add(layers.Flatten())\n",
    "model.add(layers.Dense(64,activation='relu'))\n",
    "model.add(layers.Dense(4,activation='softmax'))\n",
    "model.summary()"
   ]
  },
  {
   "cell_type": "code",
   "execution_count": 3,
   "metadata": {},
   "outputs": [],
   "source": [
    "model.compile(loss='categorical_crossentropy',\n",
    "              optimizer='adam',\n",
    "              metrics=['acc'])"
   ]
  },
  {
   "cell_type": "code",
   "execution_count": 4,
   "metadata": {},
   "outputs": [],
   "source": [
    "from keras.preprocessing.image import ImageDataGenerator\n",
    "\n",
    "train_datagen=ImageDataGenerator(rescale = 1./255,\n",
    "                                 rotation_range=90, \n",
    "                                   horizontal_flip = True,\n",
    "                                vertical_flip=True)\n",
    "test_datagen = ImageDataGenerator(rescale = 1./255)"
   ]
  },
  {
   "cell_type": "code",
   "execution_count": 5,
   "metadata": {},
   "outputs": [
    {
     "name": "stdout",
     "output_type": "stream",
     "text": [
      "Found 15161 images belonging to 4 classes.\n",
      "Found 3788 images belonging to 4 classes.\n"
     ]
    }
   ],
   "source": [
    "train_generator=train_datagen.flow_from_directory(\n",
    "                                                  train_dir,\n",
    "                                                  target_size=(256,256),\n",
    "                                                  batch_size=32,\n",
    "                                                  class_mode='categorical')\n",
    "test_generator=test_datagen.flow_from_directory(\n",
    "                                                  test_dir,\n",
    "                                                  target_size=(256,256),\n",
    "                                                  batch_size=32,\n",
    "                                                  class_mode='categorical')"
   ]
  },
  {
   "cell_type": "code",
   "execution_count": 17,
   "metadata": {},
   "outputs": [
    {
     "name": "stdout",
     "output_type": "stream",
     "text": [
      "data batch shape: (32, 256, 256, 3)\n",
      "labels batch shape: (32, 4)\n"
     ]
    }
   ],
   "source": [
    "for data_batch_test,labels_batch_test in test_generator:\n",
    "    print('data batch shape:',data_batch.shape)\n",
    "    print('labels batch shape:',labels_batch.shape)\n",
    "    break"
   ]
  },
  {
   "cell_type": "code",
   "execution_count": 22,
   "metadata": {},
   "outputs": [
    {
     "data": {
      "text/plain": [
       "array([1., 0., 0., 0.], dtype=float32)"
      ]
     },
     "execution_count": 22,
     "metadata": {},
     "output_type": "execute_result"
    }
   ],
   "source": [
    "labels_batch_test[0]"
   ]
  },
  {
   "cell_type": "code",
   "execution_count": 7,
   "metadata": {},
   "outputs": [
    {
     "name": "stdout",
     "output_type": "stream",
     "text": [
      "WARNING:tensorflow:From C:\\Users\\user\\Anaconda3\\lib\\site-packages\\tensorflow\\python\\ops\\math_ops.py:3066: to_int32 (from tensorflow.python.ops.math_ops) is deprecated and will be removed in a future version.\n",
      "Instructions for updating:\n",
      "Use tf.cast instead.\n",
      "Epoch 1/50\n",
      "474/473 [==============================] - 598s 1s/step - loss: 1.2995 - acc: 0.3696 - val_loss: 1.1967 - val_acc: 0.4876\n",
      "Epoch 2/50\n",
      "474/473 [==============================] - 556s 1s/step - loss: 1.2099 - acc: 0.4500 - val_loss: 1.1792 - val_acc: 0.4852\n",
      "Epoch 3/50\n",
      "474/473 [==============================] - 19375s 41s/step - loss: 1.1818 - acc: 0.4675 - val_loss: 1.1554 - val_acc: 0.4810\n",
      "Epoch 4/50\n",
      "474/473 [==============================] - 403s 851ms/step - loss: 1.1578 - acc: 0.4911 - val_loss: 1.1579 - val_acc: 0.4784\n",
      "Epoch 5/50\n",
      "474/473 [==============================] - 329s 694ms/step - loss: 1.1363 - acc: 0.5029 - val_loss: 1.2050 - val_acc: 0.4659\n",
      "Epoch 6/50\n",
      "474/473 [==============================] - 329s 693ms/step - loss: 1.1130 - acc: 0.5218 - val_loss: 1.1373 - val_acc: 0.4688\n",
      "Epoch 7/50\n",
      "474/473 [==============================] - 329s 695ms/step - loss: 1.0864 - acc: 0.5287 - val_loss: 1.1524 - val_acc: 0.4826\n",
      "Epoch 8/50\n",
      "474/473 [==============================] - 328s 691ms/step - loss: 1.0590 - acc: 0.5454 - val_loss: 1.1713 - val_acc: 0.4828\n",
      "Epoch 9/50\n",
      "474/473 [==============================] - 330s 696ms/step - loss: 1.0332 - acc: 0.5584 - val_loss: 1.1702 - val_acc: 0.4791\n",
      "Epoch 10/50\n",
      "474/473 [==============================] - 328s 692ms/step - loss: 1.0155 - acc: 0.5635 - val_loss: 1.1601 - val_acc: 0.4702\n",
      "Epoch 11/50\n",
      "474/473 [==============================] - 327s 690ms/step - loss: 0.9977 - acc: 0.5699 - val_loss: 1.2056 - val_acc: 0.4673\n",
      "Epoch 12/50\n",
      "474/473 [==============================] - 330s 697ms/step - loss: 0.9775 - acc: 0.5813 - val_loss: 1.1517 - val_acc: 0.4678\n",
      "Epoch 13/50\n",
      "474/473 [==============================] - 328s 692ms/step - loss: 0.9650 - acc: 0.5900 - val_loss: 1.1697 - val_acc: 0.4638\n",
      "Epoch 14/50\n",
      "474/473 [==============================] - 391s 824ms/step - loss: 0.9479 - acc: 0.5980 - val_loss: 1.1819 - val_acc: 0.4467\n",
      "Epoch 15/50\n",
      "474/473 [==============================] - 424s 895ms/step - loss: 0.9450 - acc: 0.5952 - val_loss: 1.1139 - val_acc: 0.4649\n",
      "Epoch 16/50\n",
      "474/473 [==============================] - 432s 912ms/step - loss: 0.9442 - acc: 0.5952 - val_loss: 1.2085 - val_acc: 0.4638\n",
      "Epoch 17/50\n",
      "474/473 [==============================] - 445s 940ms/step - loss: 0.9235 - acc: 0.6071 - val_loss: 1.2166 - val_acc: 0.4263\n",
      "Epoch 18/50\n",
      "474/473 [==============================] - 424s 895ms/step - loss: 0.9133 - acc: 0.6104 - val_loss: 1.1612 - val_acc: 0.4535\n",
      "Epoch 19/50\n",
      "474/473 [==============================] - 428s 903ms/step - loss: 0.8985 - acc: 0.6200 - val_loss: 1.1776 - val_acc: 0.4665\n",
      "Epoch 20/50\n",
      "474/473 [==============================] - 432s 911ms/step - loss: 0.9039 - acc: 0.6190 - val_loss: 1.2033 - val_acc: 0.4720\n",
      "Epoch 21/50\n",
      "474/473 [==============================] - 421s 889ms/step - loss: 0.8801 - acc: 0.6251 - val_loss: 1.1715 - val_acc: 0.4604\n",
      "Epoch 22/50\n",
      "474/473 [==============================] - 421s 887ms/step - loss: 0.8700 - acc: 0.6331 - val_loss: 1.1583 - val_acc: 0.4720\n",
      "Epoch 23/50\n",
      "474/473 [==============================] - 401s 845ms/step - loss: 0.8615 - acc: 0.6317 - val_loss: 1.1919 - val_acc: 0.4390\n",
      "Epoch 24/50\n",
      "474/473 [==============================] - 428s 904ms/step - loss: 0.8480 - acc: 0.6443 - val_loss: 1.1979 - val_acc: 0.4670\n",
      "Epoch 25/50\n",
      "474/473 [==============================] - 423s 892ms/step - loss: 0.8547 - acc: 0.6382 - val_loss: 1.2015 - val_acc: 0.4509\n",
      "Epoch 26/50\n",
      "474/473 [==============================] - 366s 773ms/step - loss: 0.8297 - acc: 0.6528 - val_loss: 1.1788 - val_acc: 0.4549\n",
      "Epoch 27/50\n",
      "474/473 [==============================] - 428s 903ms/step - loss: 0.8312 - acc: 0.6505 - val_loss: 1.1196 - val_acc: 0.5103\n",
      "Epoch 28/50\n",
      "474/473 [==============================] - 424s 894ms/step - loss: 0.8327 - acc: 0.6509 - val_loss: 1.1463 - val_acc: 0.4810\n",
      "Epoch 29/50\n",
      "474/473 [==============================] - 373s 786ms/step - loss: 0.8071 - acc: 0.6610 - val_loss: 1.1531 - val_acc: 0.4583\n",
      "Epoch 30/50\n",
      "474/473 [==============================] - 432s 912ms/step - loss: 0.8152 - acc: 0.6595 - val_loss: 1.1528 - val_acc: 0.4770\n",
      "Epoch 31/50\n",
      "474/473 [==============================] - 428s 903ms/step - loss: 0.7937 - acc: 0.6695 - val_loss: 1.1777 - val_acc: 0.4929\n",
      "Epoch 32/50\n",
      "474/473 [==============================] - 427s 900ms/step - loss: 0.7911 - acc: 0.6720 - val_loss: 1.2704 - val_acc: 0.4612\n",
      "Epoch 33/50\n",
      "474/473 [==============================] - 370s 780ms/step - loss: 0.7936 - acc: 0.6652 - val_loss: 1.2707 - val_acc: 0.4704\n",
      "Epoch 34/50\n",
      "474/473 [==============================] - 331s 699ms/step - loss: 0.7873 - acc: 0.6738 - val_loss: 1.1929 - val_acc: 0.4754\n",
      "Epoch 35/50\n",
      "474/473 [==============================] - 330s 697ms/step - loss: 0.7749 - acc: 0.6794 - val_loss: 1.1944 - val_acc: 0.4760\n",
      "Epoch 36/50\n",
      "474/473 [==============================] - 333s 702ms/step - loss: 0.7716 - acc: 0.6785 - val_loss: 1.2256 - val_acc: 0.4533\n",
      "Epoch 37/50\n",
      "474/473 [==============================] - 330s 697ms/step - loss: 0.7629 - acc: 0.6846 - val_loss: 1.3266 - val_acc: 0.4438\n",
      "Epoch 38/50\n",
      "474/473 [==============================] - 332s 699ms/step - loss: 0.7544 - acc: 0.6890 - val_loss: 1.2437 - val_acc: 0.4559\n",
      "Epoch 39/50\n",
      "474/473 [==============================] - 331s 699ms/step - loss: 0.7584 - acc: 0.6841 - val_loss: 1.2705 - val_acc: 0.4472\n",
      "Epoch 40/50\n",
      "474/473 [==============================] - 331s 698ms/step - loss: 0.7480 - acc: 0.6905 - val_loss: 1.2307 - val_acc: 0.4599\n",
      "Epoch 41/50\n",
      "474/473 [==============================] - 332s 700ms/step - loss: 0.7456 - acc: 0.6914 - val_loss: 1.1662 - val_acc: 0.4823\n",
      "Epoch 42/50\n",
      "474/473 [==============================] - 335s 706ms/step - loss: 0.7461 - acc: 0.6999 - val_loss: 1.2642 - val_acc: 0.4525\n",
      "Epoch 43/50\n",
      "474/473 [==============================] - 332s 700ms/step - loss: 0.7364 - acc: 0.6958 - val_loss: 1.1761 - val_acc: 0.4836\n",
      "Epoch 44/50\n",
      "474/473 [==============================] - 331s 699ms/step - loss: 0.7314 - acc: 0.7006 - val_loss: 1.2634 - val_acc: 0.4583\n",
      "Epoch 45/50\n",
      "474/473 [==============================] - 331s 699ms/step - loss: 0.7171 - acc: 0.7038 - val_loss: 1.2006 - val_acc: 0.4823\n",
      "Epoch 46/50\n",
      "474/473 [==============================] - 331s 699ms/step - loss: 0.7152 - acc: 0.7043 - val_loss: 1.1951 - val_acc: 0.4591\n",
      "Epoch 47/50\n",
      "474/473 [==============================] - 331s 699ms/step - loss: 0.7227 - acc: 0.7011 - val_loss: 1.1775 - val_acc: 0.4984\n",
      "Epoch 48/50\n",
      "474/473 [==============================] - 332s 700ms/step - loss: 0.7049 - acc: 0.7154 - val_loss: 1.2173 - val_acc: 0.4842\n",
      "Epoch 49/50\n",
      "474/473 [==============================] - 332s 700ms/step - loss: 0.6904 - acc: 0.7199 - val_loss: 1.3697 - val_acc: 0.4728\n",
      "Epoch 50/50\n",
      "474/473 [==============================] - 333s 702ms/step - loss: 0.6980 - acc: 0.7138 - val_loss: 1.1644 - val_acc: 0.4995\n"
     ]
    }
   ],
   "source": [
    "history=model.fit_generator(\n",
    "        train_generator,\n",
    "        steps_per_epoch=15161/32,\n",
    "        epochs=50,\n",
    "        validation_data=test_generator,\n",
    "        validation_steps=3788/32)\n",
    "model.save('proje_model_CNN_256.h5')\n"
   ]
  },
  {
   "cell_type": "code",
   "execution_count": null,
   "metadata": {},
   "outputs": [],
   "source": []
  }
 ],
 "metadata": {
  "kernelspec": {
   "display_name": "Python 3",
   "language": "python",
   "name": "python3"
  },
  "language_info": {
   "codemirror_mode": {
    "name": "ipython",
    "version": 3
   },
   "file_extension": ".py",
   "mimetype": "text/x-python",
   "name": "python",
   "nbconvert_exporter": "python",
   "pygments_lexer": "ipython3",
   "version": "3.7.1"
  }
 },
 "nbformat": 4,
 "nbformat_minor": 2
}
