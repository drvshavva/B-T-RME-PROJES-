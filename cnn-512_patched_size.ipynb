{
 "cells": [
  {
   "cell_type": "code",
   "execution_count": 6,
   "metadata": {},
   "outputs": [],
   "source": [
    "from keras import layers\n",
    "from keras import models\n",
    "import os\n",
    "\n",
    "base_dir='C:/Users/user/Desktop/Bitirme/VT/v1'\n",
    "train_dir=os.path.join(base_dir,'Train')\n",
    "test_dir=os.path.join(base_dir,'Test')"
   ]
  },
  {
   "cell_type": "code",
   "execution_count": 2,
   "metadata": {},
   "outputs": [
    {
     "name": "stdout",
     "output_type": "stream",
     "text": [
      "WARNING:tensorflow:From C:\\Users\\user\\Anaconda3\\lib\\site-packages\\tensorflow\\python\\framework\\op_def_library.py:263: colocate_with (from tensorflow.python.framework.ops) is deprecated and will be removed in a future version.\n",
      "Instructions for updating:\n",
      "Colocations handled automatically by placer.\n",
      "WARNING:tensorflow:From C:\\Users\\user\\Anaconda3\\lib\\site-packages\\keras\\backend\\tensorflow_backend.py:3445: calling dropout (from tensorflow.python.ops.nn_ops) with keep_prob is deprecated and will be removed in a future version.\n",
      "Instructions for updating:\n",
      "Please use `rate` instead of `keep_prob`. Rate should be set to `rate = 1 - keep_prob`.\n",
      "_________________________________________________________________\n",
      "Layer (type)                 Output Shape              Param #   \n",
      "=================================================================\n",
      "conv2d_1 (Conv2D)            (None, 510, 510, 8)       224       \n",
      "_________________________________________________________________\n",
      "activation_1 (Activation)    (None, 510, 510, 8)       0         \n",
      "_________________________________________________________________\n",
      "max_pooling2d_1 (MaxPooling2 (None, 170, 170, 8)       0         \n",
      "_________________________________________________________________\n",
      "conv2d_2 (Conv2D)            (None, 168, 168, 16)      1168      \n",
      "_________________________________________________________________\n",
      "activation_2 (Activation)    (None, 168, 168, 16)      0         \n",
      "_________________________________________________________________\n",
      "max_pooling2d_2 (MaxPooling2 (None, 84, 84, 16)        0         \n",
      "_________________________________________________________________\n",
      "conv2d_3 (Conv2D)            (None, 82, 82, 32)        4640      \n",
      "_________________________________________________________________\n",
      "activation_3 (Activation)    (None, 82, 82, 32)        0         \n",
      "_________________________________________________________________\n",
      "max_pooling2d_3 (MaxPooling2 (None, 41, 41, 32)        0         \n",
      "_________________________________________________________________\n",
      "conv2d_4 (Conv2D)            (None, 39, 39, 16)        4624      \n",
      "_________________________________________________________________\n",
      "max_pooling2d_4 (MaxPooling2 (None, 13, 13, 16)        0         \n",
      "_________________________________________________________________\n",
      "dropout_1 (Dropout)          (None, 13, 13, 16)        0         \n",
      "_________________________________________________________________\n",
      "flatten_1 (Flatten)          (None, 2704)              0         \n",
      "_________________________________________________________________\n",
      "dense_1 (Dense)              (None, 64)                173120    \n",
      "_________________________________________________________________\n",
      "dense_2 (Dense)              (None, 4)                 260       \n",
      "=================================================================\n",
      "Total params: 184,036\n",
      "Trainable params: 184,036\n",
      "Non-trainable params: 0\n",
      "_________________________________________________________________\n"
     ]
    }
   ],
   "source": [
    "model=models.Sequential()\n",
    "\n",
    "#1\n",
    "model.add(layers.Conv2D(8,(3,3),input_shape=(512,512,3)))\n",
    "#2,3        \n",
    "model.add(layers.Activation('relu'))\n",
    "model.add(layers.MaxPooling2D((3,3)))\n",
    "model.add(layers.Conv2D(16,(3,3)))\n",
    "#4,5\n",
    "model.add(layers.Activation('relu'))\n",
    "model.add(layers.MaxPooling2D((2,2)))\n",
    "model.add(layers.Conv2D(32,(3,3)))\n",
    "#6,7,8,9,10\n",
    "model.add(layers.Activation('relu'))\n",
    "model.add(layers.MaxPooling2D((2,2)))\n",
    "model.add(layers.Conv2D(16,(3,3)))\n",
    "model.add(layers.MaxPooling2D((3,3)))\n",
    "\n",
    "model.add(layers.Dropout(0.5))\n",
    "model.add(layers.Flatten())\n",
    "model.add(layers.Dense(64,activation='relu'))\n",
    "model.add(layers.Dense(4,activation='softmax'))\n",
    "model.summary()"
   ]
  },
  {
   "cell_type": "code",
   "execution_count": 3,
   "metadata": {},
   "outputs": [],
   "source": [
    "model.compile(loss='categorical_crossentropy',\n",
    "              optimizer='adam',\n",
    "              metrics=['acc'])"
   ]
  },
  {
   "cell_type": "code",
   "execution_count": 4,
   "metadata": {},
   "outputs": [],
   "source": [
    "from keras.preprocessing.image import ImageDataGenerator\n",
    "#keras augmentation method is used\n",
    "train_datagen=ImageDataGenerator(rescale = 1./255,\n",
    "                                 rotation_range=90, \n",
    "                                   horizontal_flip = True,\n",
    "                                vertical_flip=True)\n",
    "test_datagen = ImageDataGenerator(rescale = 1./255)"
   ]
  },
  {
   "cell_type": "code",
   "execution_count": 7,
   "metadata": {},
   "outputs": [
    {
     "name": "stdout",
     "output_type": "stream",
     "text": [
      "Found 5837 images belonging to 4 classes.\n",
      "Found 1459 images belonging to 4 classes.\n"
     ]
    }
   ],
   "source": [
    "train_generator=train_datagen.flow_from_directory(\n",
    "                                                  train_dir,\n",
    "                                                  target_size=(512,512),\n",
    "                                                  batch_size=32,\n",
    "                                                  class_mode='categorical')\n",
    "test_generator=test_datagen.flow_from_directory(\n",
    "                                                  test_dir,\n",
    "                                                  target_size=(512,512),\n",
    "                                                  batch_size=32,\n",
    "                                                  class_mode='categorical')"
   ]
  },
  {
   "cell_type": "code",
   "execution_count": 8,
   "metadata": {},
   "outputs": [
    {
     "name": "stdout",
     "output_type": "stream",
     "text": [
      "data batch shape: (32, 512, 512, 3)\n",
      "labels batch shape: (32, 4)\n"
     ]
    }
   ],
   "source": [
    "for data_batch,labels_batch in train_generator:\n",
    "    print('data batch shape:',data_batch.shape)\n",
    "    print('labels batch shape:',labels_batch.shape)\n",
    "    break"
   ]
  },
  {
   "cell_type": "code",
   "execution_count": 9,
   "metadata": {},
   "outputs": [
    {
     "name": "stdout",
     "output_type": "stream",
     "text": [
      "WARNING:tensorflow:From C:\\Users\\user\\Anaconda3\\lib\\site-packages\\tensorflow\\python\\ops\\math_ops.py:3066: to_int32 (from tensorflow.python.ops.math_ops) is deprecated and will be removed in a future version.\n",
      "Instructions for updating:\n",
      "Use tf.cast instead.\n",
      "Epoch 1/50\n",
      "183/182 [==============================] - 501s 3s/step - loss: 1.3181 - acc: 0.3468 - val_loss: 1.2341 - val_acc: 0.3907\n",
      "Epoch 2/50\n",
      "183/182 [==============================] - 496s 3s/step - loss: 1.2330 - acc: 0.4281 - val_loss: 1.2153 - val_acc: 0.4284\n",
      "Epoch 3/50\n",
      "183/182 [==============================] - 498s 3s/step - loss: 1.1975 - acc: 0.4585 - val_loss: 1.3933 - val_acc: 0.4181\n",
      "Epoch 4/50\n",
      "183/182 [==============================] - 497s 3s/step - loss: 1.1460 - acc: 0.4843 - val_loss: 1.0803 - val_acc: 0.5209\n",
      "Epoch 5/50\n",
      "183/182 [==============================] - 515s 3s/step - loss: 1.1014 - acc: 0.5044 - val_loss: 1.2520 - val_acc: 0.4078\n",
      "Epoch 6/50\n",
      "183/182 [==============================] - 507s 3s/step - loss: 1.0461 - acc: 0.5411 - val_loss: 1.3260 - val_acc: 0.4202\n",
      "Epoch 7/50\n",
      "183/182 [==============================] - 508s 3s/step - loss: 1.0049 - acc: 0.5608 - val_loss: 1.2945 - val_acc: 0.4448\n",
      "Epoch 8/50\n",
      "183/182 [==============================] - 499s 3s/step - loss: 0.9860 - acc: 0.5712 - val_loss: 0.9759 - val_acc: 0.5970\n",
      "Epoch 9/50\n",
      "183/182 [==============================] - 491s 3s/step - loss: 0.9580 - acc: 0.5819 - val_loss: 1.0006 - val_acc: 0.5415\n",
      "Epoch 10/50\n",
      "183/182 [==============================] - 541s 3s/step - loss: 0.9322 - acc: 0.5927 - val_loss: 0.9527 - val_acc: 0.5771\n",
      "Epoch 11/50\n",
      "183/182 [==============================] - 516s 3s/step - loss: 0.9171 - acc: 0.6000 - val_loss: 1.3211 - val_acc: 0.4825\n",
      "Epoch 12/50\n",
      "183/182 [==============================] - 503s 3s/step - loss: 0.8790 - acc: 0.6242 - val_loss: 0.8826 - val_acc: 0.6121\n",
      "Epoch 13/50\n",
      "183/182 [==============================] - 499s 3s/step - loss: 0.8520 - acc: 0.6393 - val_loss: 0.8871 - val_acc: 0.5990\n",
      "Epoch 14/50\n",
      "183/182 [==============================] - 496s 3s/step - loss: 0.8385 - acc: 0.6422 - val_loss: 0.9131 - val_acc: 0.6038\n",
      "Epoch 15/50\n",
      "183/182 [==============================] - 499s 3s/step - loss: 0.8169 - acc: 0.6535 - val_loss: 0.8720 - val_acc: 0.6018\n",
      "Epoch 16/50\n",
      "183/182 [==============================] - 500s 3s/step - loss: 0.7878 - acc: 0.6667 - val_loss: 1.0037 - val_acc: 0.5600\n",
      "Epoch 17/50\n",
      "183/182 [==============================] - 495s 3s/step - loss: 0.7812 - acc: 0.6701 - val_loss: 0.8695 - val_acc: 0.6374\n",
      "Epoch 18/50\n",
      "183/182 [==============================] - 494s 3s/step - loss: 0.7513 - acc: 0.6905 - val_loss: 1.0338 - val_acc: 0.6045\n",
      "Epoch 19/50\n",
      "183/182 [==============================] - 505s 3s/step - loss: 0.7291 - acc: 0.6949 - val_loss: 0.8039 - val_acc: 0.6635\n",
      "Epoch 20/50\n",
      "183/182 [==============================] - 509s 3s/step - loss: 0.7659 - acc: 0.6779 - val_loss: 0.9271 - val_acc: 0.6086\n",
      "Epoch 21/50\n",
      "183/182 [==============================] - 507s 3s/step - loss: 0.7332 - acc: 0.7000 - val_loss: 0.9280 - val_acc: 0.6182\n",
      "Epoch 22/50\n",
      "183/182 [==============================] - 496s 3s/step - loss: 0.6845 - acc: 0.7257 - val_loss: 0.9003 - val_acc: 0.6162\n",
      "Epoch 23/50\n",
      "183/182 [==============================] - 495s 3s/step - loss: 0.7199 - acc: 0.6960 - val_loss: 0.8322 - val_acc: 0.6546\n",
      "Epoch 24/50\n",
      "183/182 [==============================] - 494s 3s/step - loss: 0.6473 - acc: 0.7359 - val_loss: 0.7854 - val_acc: 0.6833\n",
      "Epoch 25/50\n",
      "183/182 [==============================] - 495s 3s/step - loss: 0.6367 - acc: 0.7393 - val_loss: 0.9330 - val_acc: 0.6032\n",
      "Epoch 26/50\n",
      "183/182 [==============================] - 524s 3s/step - loss: 0.6413 - acc: 0.7401 - val_loss: 0.8994 - val_acc: 0.6662\n",
      "Epoch 27/50\n",
      "183/182 [==============================] - 547s 3s/step - loss: 0.6265 - acc: 0.7499 - val_loss: 0.9079 - val_acc: 0.6230\n",
      "Epoch 28/50\n",
      "183/182 [==============================] - 500s 3s/step - loss: 0.6174 - acc: 0.7511 - val_loss: 0.8029 - val_acc: 0.6984\n",
      "Epoch 29/50\n",
      "183/182 [==============================] - 528s 3s/step - loss: 0.5877 - acc: 0.7602 - val_loss: 0.7449 - val_acc: 0.7019\n",
      "Epoch 30/50\n",
      "183/182 [==============================] - 533s 3s/step - loss: 0.6357 - acc: 0.7449 - val_loss: 0.8458 - val_acc: 0.6361\n",
      "Epoch 31/50\n",
      "183/182 [==============================] - 519s 3s/step - loss: 0.5898 - acc: 0.7692 - val_loss: 0.8238 - val_acc: 0.6847\n",
      "Epoch 32/50\n",
      "183/182 [==============================] - 552s 3s/step - loss: 0.5722 - acc: 0.7699 - val_loss: 0.8583 - val_acc: 0.6744\n",
      "Epoch 33/50\n",
      "183/182 [==============================] - 555s 3s/step - loss: 0.5546 - acc: 0.7772 - val_loss: 0.8680 - val_acc: 0.6861\n",
      "Epoch 34/50\n",
      "183/182 [==============================] - 554s 3s/step - loss: 0.5610 - acc: 0.7784 - val_loss: 0.9190 - val_acc: 0.6436\n",
      "Epoch 35/50\n",
      "183/182 [==============================] - 615s 3s/step - loss: 0.5847 - acc: 0.7610 - val_loss: 0.8965 - val_acc: 0.6402\n",
      "Epoch 36/50\n",
      "183/182 [==============================] - 512s 3s/step - loss: 0.5390 - acc: 0.7798 - val_loss: 0.8239 - val_acc: 0.6724\n",
      "Epoch 37/50\n",
      "183/182 [==============================] - 540s 3s/step - loss: 0.5145 - acc: 0.7977 - val_loss: 0.9937 - val_acc: 0.6395\n",
      "Epoch 38/50\n",
      "183/182 [==============================] - 540s 3s/step - loss: 0.5172 - acc: 0.7878 - val_loss: 0.8227 - val_acc: 0.6964\n",
      "Epoch 39/50\n",
      "183/182 [==============================] - 570s 3s/step - loss: 0.5434 - acc: 0.7828 - val_loss: 0.8577 - val_acc: 0.6847\n",
      "Epoch 40/50\n",
      "183/182 [==============================] - 566s 3s/step - loss: 0.5136 - acc: 0.7900 - val_loss: 0.7898 - val_acc: 0.7094\n",
      "Epoch 41/50\n",
      "183/182 [==============================] - 506s 3s/step - loss: 0.5431 - acc: 0.7798 - val_loss: 0.7926 - val_acc: 0.7149\n",
      "Epoch 42/50\n",
      "183/182 [==============================] - 500s 3s/step - loss: 0.4975 - acc: 0.8044 - val_loss: 0.9679 - val_acc: 0.6737\n",
      "Epoch 43/50\n",
      "183/182 [==============================] - 502s 3s/step - loss: 0.5082 - acc: 0.7953 - val_loss: 0.9270 - val_acc: 0.6799\n",
      "Epoch 44/50\n",
      "183/182 [==============================] - 501s 3s/step - loss: 0.4902 - acc: 0.8059 - val_loss: 0.9098 - val_acc: 0.6683\n",
      "Epoch 45/50\n",
      "183/182 [==============================] - 499s 3s/step - loss: 0.5171 - acc: 0.7930 - val_loss: 0.8043 - val_acc: 0.7334\n",
      "Epoch 46/50\n",
      "183/182 [==============================] - 499s 3s/step - loss: 0.4602 - acc: 0.8210 - val_loss: 0.9645 - val_acc: 0.6477\n",
      "Epoch 47/50\n",
      "183/182 [==============================] - 506s 3s/step - loss: 0.4870 - acc: 0.7997 - val_loss: 0.7767 - val_acc: 0.7060\n",
      "Epoch 48/50\n",
      "183/182 [==============================] - 578s 3s/step - loss: 0.4455 - acc: 0.8233 - val_loss: 0.9556 - val_acc: 0.7060\n",
      "Epoch 49/50\n",
      "183/182 [==============================] - 590s 3s/step - loss: 0.4809 - acc: 0.8054 - val_loss: 1.0820 - val_acc: 0.6319\n",
      "Epoch 50/50\n",
      "183/182 [==============================] - 587s 3s/step - loss: 0.4385 - acc: 0.8293 - val_loss: 0.8238 - val_acc: 0.7190\n"
     ]
    }
   ],
   "source": [
    "history=model.fit_generator(\n",
    "        train_generator,\n",
    "        steps_per_epoch=5837/32,\n",
    "        epochs=50,\n",
    "        validation_data=test_generator,\n",
    "        validation_steps=1459/32)\n",
    "model.save('proje_model_CNN_512.h5')\n"
   ]
  },
  {
   "cell_type": "code",
   "execution_count": 10,
   "metadata": {},
   "outputs": [
    {
     "name": "stdout",
     "output_type": "stream",
     "text": [
      "data batch shape: (32, 512, 512, 3)\n",
      "labels batch shape: (32, 4)\n"
     ]
    }
   ],
   "source": [
    "for data_test,labels_test in test_generator:\n",
    "    print('data batch shape:',data_test.shape)\n",
    "    print('labels batch shape:',labels_test.shape)\n",
    "    break"
   ]
  },
  {
   "cell_type": "code",
   "execution_count": 11,
   "metadata": {},
   "outputs": [
    {
     "name": "stdout",
     "output_type": "stream",
     "text": [
      "\r",
      "32/32 [==============================] - 0s 9ms/step\n"
     ]
    },
    {
     "data": {
      "text/plain": [
       "87.5"
      ]
     },
     "execution_count": 11,
     "metadata": {},
     "output_type": "execute_result"
    }
   ],
   "source": [
    "scores=model.evaluate(data_test,labels_test)\n",
    "scores[1]*100"
   ]
  },
  {
   "cell_type": "code",
   "execution_count": null,
   "metadata": {},
   "outputs": [],
   "source": []
  }
 ],
 "metadata": {
  "kernelspec": {
   "display_name": "Python 3",
   "language": "python",
   "name": "python3"
  },
  "language_info": {
   "codemirror_mode": {
    "name": "ipython",
    "version": 3
   },
   "file_extension": ".py",
   "mimetype": "text/x-python",
   "name": "python",
   "nbconvert_exporter": "python",
   "pygments_lexer": "ipython3",
   "version": "3.7.1"
  }
 },
 "nbformat": 4,
 "nbformat_minor": 2
}
