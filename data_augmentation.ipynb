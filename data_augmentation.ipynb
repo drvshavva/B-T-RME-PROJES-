{
 "cells": [
  {
   "cell_type": "code",
   "execution_count": 1,
   "metadata": {},
   "outputs": [
    {
     "name": "stderr",
     "output_type": "stream",
     "text": [
      "Using TensorFlow backend.\n"
     ]
    }
   ],
   "source": [
    "#importing libraries\n",
    "import cv2\n",
    "import glob\n",
    "import numpy as np\n",
    "from matplotlib import pyplot as plt\n",
    "from skimage import io\n",
    "\n",
    "from keras.preprocessing import image"
   ]
  },
  {
   "cell_type": "code",
   "execution_count": 15,
   "metadata": {},
   "outputs": [],
   "source": [
    "#270 derece rotation fonksiyonu\n",
    "def create_augmented(img,i):\n",
    "    num_rows, num_cols = img.shape[:2]\n",
    "    rotation_matrix = cv2.getRotationMatrix2D((num_cols/2, num_rows/2), 270, 1)\n",
    "    img_rotation = cv2.warpAffine(img, rotation_matrix, (num_cols, num_rows))\n",
    "    path=str(i)+'_270.tif'\n",
    "    cv2.imwrite('C:/Users/user/Desktop/augmented/Train/Invasive/'+path,img_rotation)"
   ]
  },
  {
   "cell_type": "code",
   "execution_count": 16,
   "metadata": {},
   "outputs": [],
   "source": [
    "#Invasive sınıfındaki görüntüler için 270 derece rotation fonksiyonu çağrılıyor\n",
    "path = glob.glob(\"C:/Users/user/Desktop/Bitirme/Veri_seti/Train/Invasive/*.tif\")\n",
    "i=0\n",
    "for img in path:\n",
    "    n = cv2.imread(img)\n",
    "    create_augmented(n,i)\n",
    "    i+=1\n",
    "    "
   ]
  },
  {
   "cell_type": "code",
   "execution_count": 4,
   "metadata": {},
   "outputs": [],
   "source": [
    "#horizantal  flip fonksiyonu\n",
    "def hori_flipping(img,i):\n",
    "    horizontal_img = img.copy()\n",
    "    horizontal_img = cv2.flip( img, 0 )\n",
    "    path='flip_'+str(i)+'.tif'\n",
    "    cv2.imwrite('C:/Users/user/Desktop/augmented/Train/Invasive/'+path,horizontal_img )"
   ]
  },
  {
   "cell_type": "code",
   "execution_count": 5,
   "metadata": {},
   "outputs": [],
   "source": [
    "#invasive sınıfı için horizantal flip fonksiyonu çagrılıyor\n",
    "path = glob.glob(\"C:/Users/user/Desktop/Bitirme/Veri_seti/Train/Invasive/*.tif\")\n",
    "i=0\n",
    "for img in path:\n",
    "    n = cv2.imread(img)\n",
    "    hori_flipping(n,i)\n",
    "    i+=1"
   ]
  },
  {
   "cell_type": "code",
   "execution_count": 6,
   "metadata": {},
   "outputs": [],
   "source": [
    "#vertical flip fonksiyonu\n",
    "def vertical_flipping(img,i):\n",
    "    horizontal_img = img.copy()\n",
    "    horizontal_img = cv2.flip( img, 1 )\n",
    "    path='verti-flip_'+str(i)+'.tif'\n",
    "    cv2.imwrite('C:/Users/user/Desktop/augmented/Train/Invasive/'+path,horizontal_img )"
   ]
  },
  {
   "cell_type": "code",
   "execution_count": 7,
   "metadata": {},
   "outputs": [],
   "source": [
    "path = glob.glob(\"C:/Users/user/Desktop/Bitirme/Veri_seti/Train/Invasive/*.tif\")\n",
    "i=0\n",
    "for img in path:\n",
    "    n = cv2.imread(img)\n",
    "    vertical_flipping(n,i)\n",
    "    i+=1"
   ]
  },
  {
   "cell_type": "code",
   "execution_count": null,
   "metadata": {},
   "outputs": [],
   "source": []
  }
 ],
 "metadata": {
  "kernelspec": {
   "display_name": "Python 3",
   "language": "python",
   "name": "python3"
  },
  "language_info": {
   "codemirror_mode": {
    "name": "ipython",
    "version": 3
   },
   "file_extension": ".py",
   "mimetype": "text/x-python",
   "name": "python",
   "nbconvert_exporter": "python",
   "pygments_lexer": "ipython3",
   "version": "3.7.1"
  }
 },
 "nbformat": 4,
 "nbformat_minor": 2
}
