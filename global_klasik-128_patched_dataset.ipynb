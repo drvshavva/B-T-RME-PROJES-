{
 "cells": [
  {
   "cell_type": "code",
   "execution_count": 2,
   "metadata": {},
   "outputs": [],
   "source": [
    "from sklearn.preprocessing import LabelEncoder\n",
    "from sklearn.preprocessing import MinMaxScaler\n",
    "import numpy as np\n",
    "import mahotas\n",
    "import cv2\n",
    "import os\n",
    "import h5py\n",
    "import glob\n",
    "from matplotlib import pyplot\n",
    "from sklearn.model_selection import train_test_split, cross_val_score\n",
    "from sklearn.model_selection import KFold, StratifiedKFold\n",
    "from sklearn.metrics import confusion_matrix, accuracy_score, classification_report\n",
    "from sklearn.linear_model import LogisticRegression\n",
    "from sklearn.tree import DecisionTreeClassifier\n",
    "from sklearn.ensemble import RandomForestClassifier\n",
    "from sklearn.neighbors import KNeighborsClassifier\n",
    "from sklearn.discriminant_analysis import LinearDiscriminantAnalysis\n",
    "from sklearn.naive_bayes import GaussianNB\n",
    "from sklearn.svm import SVC\n",
    "from sklearn.externals import joblib\n"
   ]
  },
  {
   "cell_type": "code",
   "execution_count": 2,
   "metadata": {},
   "outputs": [],
   "source": [
    "train_path = 'C:/Users/user/Desktop/128/Train'\n"
   ]
  },
  {
   "cell_type": "code",
   "execution_count": 3,
   "metadata": {},
   "outputs": [],
   "source": [
    "bins = 8\n"
   ]
  },
  {
   "cell_type": "code",
   "execution_count": 4,
   "metadata": {},
   "outputs": [],
   "source": [
    "# feature-descriptor-1: Hu Moments\n",
    "def fd_hu_moments(image):\n",
    "    image = cv2.cvtColor(image, cv2.COLOR_BGR2GRAY)\n",
    "    feature = cv2.HuMoments(cv2.moments(image)).flatten()\n",
    "    return feature"
   ]
  },
  {
   "cell_type": "code",
   "execution_count": 5,
   "metadata": {},
   "outputs": [],
   "source": [
    "# feature-descriptor-2: Haralick Texture\n",
    "def fd_haralick(image):\n",
    "    # convert the image to grayscale\n",
    "    gray = cv2.cvtColor(image, cv2.COLOR_BGR2GRAY)\n",
    "    # compute the haralick texture feature vector\n",
    "    haralick = mahotas.features.haralick(gray).mean(axis=0)\n",
    "    # return the result\n",
    "    return haralick"
   ]
  },
  {
   "cell_type": "code",
   "execution_count": 6,
   "metadata": {},
   "outputs": [],
   "source": [
    "# feature-descriptor-3: Color Histogram\n",
    "def fd_histogram(image, mask=None):\n",
    "    # convert the image to HSV color-space\n",
    "    image = cv2.cvtColor(image, cv2.COLOR_BGR2HSV)\n",
    "    # compute the color histogram\n",
    "    hist  = cv2.calcHist([image], [0, 1, 2], None, [bins, bins, bins], [0, 256, 0, 256, 0, 256])\n",
    "    # normalize the histogram\n",
    "    cv2.normalize(hist, hist)\n",
    "    # return the histogram\n",
    "    return hist.flatten()"
   ]
  },
  {
   "cell_type": "code",
   "execution_count": 7,
   "metadata": {},
   "outputs": [],
   "source": [
    "train_labels = os.listdir(train_path)\n",
    "fixed_size = tuple((500, 500))\n"
   ]
  },
  {
   "cell_type": "code",
   "execution_count": 8,
   "metadata": {},
   "outputs": [
    {
     "name": "stdout",
     "output_type": "stream",
     "text": [
      "['Benign', 'Insitu', 'Invasive', 'Normal']\n"
     ]
    }
   ],
   "source": [
    "# sort the training labels\n",
    "train_labels.sort()\n",
    "print(train_labels)\n"
   ]
  },
  {
   "cell_type": "code",
   "execution_count": 9,
   "metadata": {},
   "outputs": [],
   "source": [
    "# empty lists to hold feature vectors and labels\n",
    "global_features = []\n",
    "labels = []\n",
    "\n",
    "i, j = 0, 0\n",
    "k = 0"
   ]
  },
  {
   "cell_type": "code",
   "execution_count": 10,
   "metadata": {},
   "outputs": [
    {
     "name": "stdout",
     "output_type": "stream",
     "text": [
      "[STATUS] processed folder: Benign\n",
      "[STATUS] processed folder: Insitu\n",
      "[STATUS] processed folder: Invasive\n",
      "[STATUS] processed folder: Normal\n"
     ]
    }
   ],
   "source": [
    "for training_name in train_labels:\n",
    "    # join the training data path and each species training folder\n",
    "    path = glob.glob(\"C:/Users/user/Desktop/128/Train/\"+training_name+\"/*.tif\")\n",
    "\n",
    "    \n",
    "    # get the current training label\n",
    "    current_label = training_name\n",
    "    \n",
    "    k = 1\n",
    "    x=0\n",
    "    # loop over the images in each sub-folder\n",
    "    for file in path:\n",
    "        if x<60000:\n",
    "             # read the image \n",
    "            image = cv2.imread(file)\n",
    "            fv_hu_moments = fd_hu_moments(image)\n",
    "            fv_haralick   = fd_haralick(image)\n",
    "            fv_histogram  = fd_histogram(image)\n",
    "            global_feature = np.hstack([fv_histogram, fv_haralick, fv_hu_moments])\n",
    "            labels.append(current_label)\n",
    "            global_features.append(global_feature)\n",
    "\n",
    "            i += 1\n",
    "            k += 1 \n",
    "            x=x+1\n",
    "    print (\"[STATUS] processed folder: {}\".format(current_label))\n",
    "    j += 1"
   ]
  },
  {
   "cell_type": "code",
   "execution_count": 11,
   "metadata": {},
   "outputs": [
    {
     "name": "stdout",
     "output_type": "stream",
     "text": [
      "[STATUS] completed Global Feature Extraction...\n",
      "[STATUS] feature vector size (63936, 532)\n",
      "[STATUS] training Labels (63936,)\n"
     ]
    }
   ],
   "source": [
    "print (\"[STATUS] completed Global Feature Extraction...\")\n",
    "\n",
    "# get the overall feature vector size\n",
    "print (\"[STATUS] feature vector size {}\".format(np.array(global_features).shape))\n",
    "\n",
    "# get the overall training label size\n",
    "print (\"[STATUS] training Labels {}\".format(np.array(labels).shape))"
   ]
  },
  {
   "cell_type": "code",
   "execution_count": 12,
   "metadata": {},
   "outputs": [
    {
     "name": "stdout",
     "output_type": "stream",
     "text": [
      "[STATUS] training labels encoded...\n"
     ]
    }
   ],
   "source": [
    "# encode the target labels\n",
    "targetNames = np.unique(labels)\n",
    "le = LabelEncoder()\n",
    "target = le.fit_transform(labels)\n",
    "print (\"[STATUS] training labels encoded...\")"
   ]
  },
  {
   "cell_type": "code",
   "execution_count": 13,
   "metadata": {},
   "outputs": [
    {
     "name": "stdout",
     "output_type": "stream",
     "text": [
      "[STATUS] feature vector normalized...\n",
      "[STATUS] target labels: [0 0 0 ... 3 3 3]\n",
      "[STATUS] target labels shape: (63936,)\n"
     ]
    }
   ],
   "source": [
    "# normalize the feature vector in the range (0-1)\n",
    "scaler = MinMaxScaler(feature_range=(0, 1))\n",
    "rescaled_features = scaler.fit_transform(global_features)\n",
    "print (\"[STATUS] feature vector normalized...\")\n",
    "\n",
    "print (\"[STATUS] target labels: {}\".format(target))\n",
    "print( \"[STATUS] target labels shape: {}\".format(target.shape))"
   ]
  },
  {
   "cell_type": "code",
   "execution_count": 48,
   "metadata": {},
   "outputs": [],
   "source": [
    "# save the feature vector using HDF5\n",
    "h5f_data = h5py.File('output/data_128.h5', 'w')\n",
    "h5f_data.create_dataset('dataset_1', data=np.array(rescaled_features))\n",
    "\n",
    "h5f_label = h5py.File('output/labels_128.h5', 'w')\n",
    "h5f_label.create_dataset('dataset_1', data=np.array(target))\n",
    "\n",
    "h5f_data.close()\n",
    "h5f_label.close()"
   ]
  },
  {
   "cell_type": "code",
   "execution_count": 49,
   "metadata": {},
   "outputs": [],
   "source": [
    "# create all the machine learning models\n",
    "models = []\n",
    "models.append(('LR', LogisticRegression(random_state=9)))\n",
    "models.append(('LDA', LinearDiscriminantAnalysis()))\n",
    "models.append(('KNN', KNeighborsClassifier()))\n",
    "models.append(('CART', DecisionTreeClassifier(random_state=9)))\n",
    "models.append(('RF', RandomForestClassifier(n_estimators=10, random_state=9)))\n",
    "models.append(('NB', GaussianNB()))\n",
    "models.append(('SVM', SVC(kernel='linear')))"
   ]
  },
  {
   "cell_type": "code",
   "execution_count": 50,
   "metadata": {},
   "outputs": [],
   "source": [
    "# variables to hold the results and names\n",
    "results = []\n",
    "names = []\n",
    "scoring = \"accuracy\""
   ]
  },
  {
   "cell_type": "code",
   "execution_count": 51,
   "metadata": {},
   "outputs": [],
   "source": [
    "# import the feature vector and trained labels\n",
    "h5f_data = h5py.File('output/data_128.h5', 'r')\n",
    "h5f_label = h5py.File('output/labels_128.h5', 'r')\n",
    "\n",
    "global_features_string = h5f_data['dataset_1']\n",
    "global_labels_string = h5f_label['dataset_1']\n",
    "\n",
    "global_features = np.array(global_features_string)\n",
    "global_labels = np.array(global_labels_string)\n",
    "\n",
    "h5f_data.close()\n",
    "h5f_label.close()"
   ]
  },
  {
   "cell_type": "code",
   "execution_count": 52,
   "metadata": {},
   "outputs": [],
   "source": [
    "# split the training and testing data\n",
    "(trainDataGlobal, testDataGlobal, trainLabelsGlobal, testLabelsGlobal) = train_test_split(np.array(global_features),\n",
    "                                                                                          np.array(global_labels),\n",
    "                                                                                          test_size=0.2,\n",
    "                                                                                          random_state=9)"
   ]
  },
  {
   "cell_type": "code",
   "execution_count": 53,
   "metadata": {},
   "outputs": [
    {
     "name": "stdout",
     "output_type": "stream",
     "text": [
      "[STATUS] splitted train and test data...\n",
      "Train data  : (51148, 532)\n",
      "Test data   : (12788, 532)\n",
      "Train labels: (51148,)\n",
      "Test labels : (12788,)\n"
     ]
    }
   ],
   "source": [
    "print (\"[STATUS] splitted train and test data...\")\n",
    "print (\"Train data  : {}\".format(trainDataGlobal.shape))\n",
    "print( \"Test data   : {}\".format(testDataGlobal.shape))\n",
    "print (\"Train labels: {}\".format(trainLabelsGlobal.shape))\n",
    "print (\"Test labels : {}\".format(testLabelsGlobal.shape))"
   ]
  },
  {
   "cell_type": "code",
   "execution_count": 54,
   "metadata": {},
   "outputs": [
    {
     "name": "stdout",
     "output_type": "stream",
     "text": [
      "LR: 0.634970 \n",
      "LDA: 0.640757 \n",
      "KNN: 0.839381 \n",
      "CART: 0.765874 \n",
      "RF: 0.827729 \n",
      "NB: 0.330153 \n",
      "SVM: 0.645996 \n"
     ]
    }
   ],
   "source": [
    "from sklearn import metrics\n",
    "for name, model in models:\n",
    "    clf=model\n",
    "    clf.fit(trainDataGlobal, trainLabelsGlobal)\n",
    "    y_pred=clf.predict(testDataGlobal)\n",
    "    msg = \"%s: %f \" % (name, metrics.accuracy_score(y_pred,testLabelsGlobal))\n",
    "    print(msg)"
   ]
  },
  {
   "cell_type": "code",
   "execution_count": 55,
   "metadata": {},
   "outputs": [],
   "source": [
    "# filter all the warnings\n",
    "import warnings\n",
    "warnings.filterwarnings('ignore')"
   ]
  },
  {
   "cell_type": "code",
   "execution_count": 56,
   "metadata": {},
   "outputs": [
    {
     "name": "stdout",
     "output_type": "stream",
     "text": [
      "LR: 0.636838 (0.002673)\n",
      "LDA: 0.640006 (0.002788)\n",
      "KNN: 0.829592 (0.002378)\n",
      "CART: 0.746852 (0.005907)\n",
      "RF: 0.817686 (0.003319)\n",
      "NB: 0.336259 (0.004251)\n",
      "SVM: 0.644307 (0.001904)\n"
     ]
    }
   ],
   "source": [
    "# 10-fold cross validation\n",
    "for name, model in models:\n",
    "    kfold = KFold(n_splits=5, random_state=7)\n",
    "    cv_results = cross_val_score(model, trainDataGlobal, trainLabelsGlobal, cv=kfold, scoring=scoring)\n",
    "    results.append(cv_results)\n",
    "    names.append(name)\n",
    "    msg = \"%s: %f (%f)\" % (name, cv_results.mean(), cv_results.std())\n",
    "    print(msg)"
   ]
  },
  {
   "cell_type": "code",
   "execution_count": 57,
   "metadata": {},
   "outputs": [
    {
     "data": {
      "image/png": "[encoded data removed]",
      "text/plain": [
       "<Figure size 432x288 with 1 Axes>"
      ]
     },
     "metadata": {
      "needs_background": "light"
     },
     "output_type": "display_data"
    }
   ],
   "source": [
    "# boxplot algorithm comparison\n",
    "fig = pyplot.figure()\n",
    "fig.suptitle('Machine Learning algorithm comparison')\n",
    "ax = fig.add_subplot(111)\n",
    "pyplot.boxplot(results)\n",
    "ax.set_xticklabels(names)\n",
    "pyplot.show()"
   ]
  },
  {
   "cell_type": "code",
   "execution_count": null,
   "metadata": {},
   "outputs": [
    {
     "data": {
      "text/plain": [
       "KNeighborsClassifier(algorithm='auto', leaf_size=30, metric='minkowski',\n",
       "           metric_params=None, n_jobs=None, n_neighbors=5, p=2,\n",
       "           weights='uniform')"
      ]
     },
     "execution_count": 58,
     "metadata": {},
     "output_type": "execute_result"
    }
   ],
   "source": [
    "#-----------------------------------\n",
    "# TESTING OUR MODEL\n",
    "#-----------------------------------\n",
    "import matplotlib.pyplot as plt\n",
    "\n",
    "clf  =  KNeighborsClassifier()\n",
    "\n",
    "# fit the training data to the model\n",
    "clf.fit(trainDataGlobal, trainLabelsGlobal)\n",
    "\n"
   ]
  },
  {
   "cell_type": "code",
   "execution_count": 24,
   "metadata": {},
   "outputs": [],
   "source": [
    "def test(file):\n",
    "    image = cv2.imread(file)\n",
    "    \n",
    "    fv_hu_moments = fd_hu_moments(image)\n",
    "    fv_haralick   = fd_haralick(image)\n",
    "    fv_histogram  = fd_histogram(image)\n",
    "    \n",
    "    global_feature = np.hstack([fv_histogram, fv_haralick, fv_hu_moments])\n",
    "    prediction = clf.predict(global_feature.reshape(1,-1))[0]\n",
    "    cv2.putText(image, train_labels[prediction], (20,30), cv2.FONT_HERSHEY_SIMPLEX, 1.0, (0,255,255), 3)\n",
    "    plt.imshow(cv2.cvtColor(image, cv2.COLOR_BGR2RGB))\n",
    "    plt.show()"
   ]
  },
  {
   "cell_type": "code",
   "execution_count": 25,
   "metadata": {},
   "outputs": [],
   "source": [
    "def pred_label(file):\n",
    "    image = cv2.imread(file)\n",
    "    \n",
    "    fv_hu_moments = fd_hu_moments(image)\n",
    "    fv_haralick   = fd_haralick(image)\n",
    "    fv_histogram  = fd_histogram(image)\n",
    "    \n",
    "    global_feature = np.hstack([fv_histogram, fv_haralick, fv_hu_moments])\n",
    "    prediction = clf.predict(global_feature.reshape(1,-1))[0]\n",
    "    return train_labels[prediction]"
   ]
  },
  {
   "cell_type": "code",
   "execution_count": 37,
   "metadata": {},
   "outputs": [
    {
     "name": "stdout",
     "output_type": "stream",
     "text": [
      "Gercek sınıf:Normal\n",
      "test sonuc:\n"
     ]
    },
    {
     "data": {
      "image/png": "[encoded data removed]",
      "text/plain": [
       "<Figure size 432x288 with 1 Axes>"
      ]
     },
     "metadata": {
      "needs_background": "light"
     },
     "output_type": "display_data"
    }
   ],
   "source": [
    "file=\"C:/Users/user/Desktop/128/Test/Normal/0b_10.tif\"\n",
    "print(\"Gercek sınıf:Normal\")\n",
    "print(\"test sonuc:\")\n",
    "test(file)"
   ]
  },
  {
   "cell_type": "code",
   "execution_count": 27,
   "metadata": {},
   "outputs": [
    {
     "name": "stdout",
     "output_type": "stream",
     "text": [
      "tahmin: Normal\n",
      "dogru\n"
     ]
    }
   ],
   "source": [
    "print(\"tahmin:\",pred_label(\"C:/Users/user/Desktop/128/Test/Normal/0b_10.tif\"))\n",
    "\n",
    "if 'Normal'==pred_label(\"C:/Users/user/Desktop/128/Test/Normal/0b_10.tif\"):\n",
    "    print(\"dogru\")"
   ]
  },
  {
   "cell_type": "code",
   "execution_count": 41,
   "metadata": {},
   "outputs": [
    {
     "name": "stdout",
     "output_type": "stream",
     "text": [
      "100 örnekten 69 tanesi dogru\n"
     ]
    }
   ],
   "source": [
    "x,c=0,0\n",
    "for file in glob.glob(\"C:/Users/user/Desktop/128/Test/Benign/*.tif\"):\n",
    "    if x<100:\n",
    "        if 'Benign'==pred_label(file):\n",
    "            c=c+1\n",
    "    x=x+1\n",
    "print(\"100 örnekten\",c,\"tanesi dogru\")"
   ]
  },
  {
   "cell_type": "code",
   "execution_count": null,
   "metadata": {},
   "outputs": [],
   "source": []
  }
 ],
 "metadata": {
  "kernelspec": {
   "display_name": "Python 3",
   "language": "python",
   "name": "python3"
  },
  "language_info": {
   "codemirror_mode": {
    "name": "ipython",
    "version": 3
   },
   "file_extension": ".py",
   "mimetype": "text/x-python",
   "name": "python",
   "nbconvert_exporter": "python",
   "pygments_lexer": "ipython3",
   "version": "3.7.1"
  }
 },
 "nbformat": 4,
 "nbformat_minor": 2
}
