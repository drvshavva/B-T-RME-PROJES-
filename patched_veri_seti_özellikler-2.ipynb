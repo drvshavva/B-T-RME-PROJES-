{
 "cells": [
  {
   "cell_type": "code",
   "execution_count": 1,
   "metadata": {},
   "outputs": [
    {
     "name": "stderr",
     "output_type": "stream",
     "text": [
      "Using TensorFlow backend.\n"
     ]
    }
   ],
   "source": [
    "from keras import layers\n",
    "from keras import models\n",
    "import os\n",
    "\n",
    "base_dir='C:/Users/user/Desktop/Bitirme/Veri_seti'\n",
    "train_dir=os.path.join(base_dir,'Train')\n",
    "test_dir=os.path.join(base_dir,'Test')"
   ]
  },
  {
   "cell_type": "code",
   "execution_count": 2,
   "metadata": {},
   "outputs": [
    {
     "name": "stdout",
     "output_type": "stream",
     "text": [
      "Sınıflar: ['Benign', 'In Situ', 'Invasive', 'Normal']\n"
     ]
    }
   ],
   "source": [
    "print(\"Sınıflar:\",os.listdir(train_dir))"
   ]
  },
  {
   "cell_type": "code",
   "execution_count": 3,
   "metadata": {},
   "outputs": [],
   "source": [
    "b_class_dir=os.path.join(train_dir,'Benign')\n",
    "In_class_dir=os.path.join(train_dir,'In Situ')\n",
    "Ins_class_dir=os.path.join(train_dir,'Invasive')\n",
    "n_class_dir=os.path.join(train_dir,'Normal')"
   ]
  },
  {
   "cell_type": "code",
   "execution_count": 4,
   "metadata": {},
   "outputs": [
    {
     "name": "stdout",
     "output_type": "stream",
     "text": [
      "'Benign' sınıfı örnek sayısı-train: 2016\n",
      "'In Situ' sınıfı örnek sayısı-train: 1944\n",
      "'Invasive' sınıfı örnek sayısı-train: 1932\n",
      "'Normal' sınıfı örnek sayısı-train: 1404\n"
     ]
    }
   ],
   "source": [
    "print(\"'Benign' sınıfı örnek sayısı-train:\",len(os.listdir(b_class_dir)))\n",
    "print(\"'In Situ' sınıfı örnek sayısı-train:\",len(os.listdir(In_class_dir)))\n",
    "print(\"'Invasive' sınıfı örnek sayısı-train:\",len(os.listdir(Ins_class_dir)))\n",
    "print(\"'Normal' sınıfı örnek sayısı-train:\",len(os.listdir(n_class_dir)))"
   ]
  },
  {
   "cell_type": "code",
   "execution_count": 5,
   "metadata": {},
   "outputs": [],
   "source": [
    "b_class_dir_test=os.path.join(test_dir,'Benign')\n",
    "In_class_dir_test=os.path.join(test_dir,'In Situ')\n",
    "Ins_class_dir_test=os.path.join(test_dir,'Invasive')\n",
    "n_class_dir_test=os.path.join(test_dir,'Normal')"
   ]
  },
  {
   "cell_type": "code",
   "execution_count": 6,
   "metadata": {},
   "outputs": [
    {
     "name": "stdout",
     "output_type": "stream",
     "text": [
      "'Benign' sınıfı örnek sayısı-test: 108\n",
      "'In Situ' sınıfı örnek sayısı-test: 108\n",
      "'Invasive' sınıfı örnek sayısı-test: 108\n",
      "'Normal' sınıfı örnek sayısı-test: 109\n"
     ]
    }
   ],
   "source": [
    "print(\"'Benign' sınıfı örnek sayısı-test:\",len(os.listdir(b_class_dir_test)))\n",
    "print(\"'In Situ' sınıfı örnek sayısı-test:\",len(os.listdir(In_class_dir_test)))\n",
    "print(\"'Invasive' sınıfı örnek sayısı-test:\",len(os.listdir(Ins_class_dir_test)))\n",
    "print(\"'Normal' sınıfı örnek sayısı-test:\",len(os.listdir(n_class_dir_test)))"
   ]
  },
  {
   "cell_type": "code",
   "execution_count": 7,
   "metadata": {},
   "outputs": [
    {
     "name": "stdout",
     "output_type": "stream",
     "text": [
      "toplam test örnek sayısı: 433\n"
     ]
    }
   ],
   "source": [
    "toplam_test=len(os.listdir(b_class_dir_test))+len(os.listdir(In_class_dir_test))+len(os.listdir(Ins_class_dir_test))+len(os.listdir(n_class_dir_test))\n",
    "print(\"toplam test örnek sayısı:\",toplam_test)"
   ]
  },
  {
   "cell_type": "code",
   "execution_count": 8,
   "metadata": {},
   "outputs": [
    {
     "name": "stdout",
     "output_type": "stream",
     "text": [
      "toplam train örnek sayısı: 7296\n"
     ]
    }
   ],
   "source": [
    "toplam_train=len(os.listdir(b_class_dir))+len(os.listdir(In_class_dir))+len(os.listdir(Ins_class_dir))+len(os.listdir(n_class_dir))\n",
    "print(\"toplam train örnek sayısı:\",toplam_train)"
   ]
  },
  {
   "cell_type": "code",
   "execution_count": 9,
   "metadata": {},
   "outputs": [
    {
     "name": "stdout",
     "output_type": "stream",
     "text": [
      "bölünme oranı:(train) 0.9439772286194851\n"
     ]
    }
   ],
   "source": [
    "print(\"bölünme oranı:(train)\",toplam_train/(toplam_train+toplam_test))"
   ]
  },
  {
   "cell_type": "code",
   "execution_count": 15,
   "metadata": {},
   "outputs": [],
   "source": [
    "import matplotlib.pyplot as plt\n",
    "import numpy as np"
   ]
  },
  {
   "cell_type": "code",
   "execution_count": 16,
   "metadata": {},
   "outputs": [
    {
     "data": {
      "image/png": "[encoded data removed]",
      "text/plain": [
       "<Figure size 432x288 with 1 Axes>"
      ]
     },
     "metadata": {
      "needs_background": "light"
     },
     "output_type": "display_data"
    }
   ],
   "source": [
    "objects = ('Benign', 'In Situ', 'Invasive', 'Normal')\n",
    "y_pos = np.arange(len(objects))\n",
    "performance = [len(os.listdir(b_class_dir)),len(os.listdir(In_class_dir)),len(os.listdir(Ins_class_dir)),len(os.listdir(n_class_dir))]\n",
    " \n",
    "plt.bar(y_pos, performance, align='center', alpha=0.5)\n",
    "plt.xticks(y_pos, objects)\n",
    "plt.ylabel('Number of samples')\n",
    "plt.title('Type of beast canser')\n",
    " \n",
    "plt.show()\n"
   ]
  },
  {
   "cell_type": "code",
   "execution_count": null,
   "metadata": {},
   "outputs": [],
   "source": []
  },
  {
   "cell_type": "code",
   "execution_count": null,
   "metadata": {},
   "outputs": [],
   "source": []
  }
 ],
 "metadata": {
  "kernelspec": {
   "display_name": "Python 3",
   "language": "python",
   "name": "python3"
  },
  "language_info": {
   "codemirror_mode": {
    "name": "ipython",
    "version": 3
   },
   "file_extension": ".py",
   "mimetype": "text/x-python",
   "name": "python",
   "nbconvert_exporter": "python",
   "pygments_lexer": "ipython3",
   "version": "3.7.1"
  }
 },
 "nbformat": 4,
 "nbformat_minor": 2
}
